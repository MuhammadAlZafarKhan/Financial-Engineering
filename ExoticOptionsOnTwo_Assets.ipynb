{
  "nbformat": 4,
  "nbformat_minor": 0,
  "metadata": {
    "colab": {
      "provenance": []
    },
    "kernelspec": {
      "name": "python3",
      "display_name": "Python 3"
    },
    "language_info": {
      "name": "python"
    }
  },
  "cells": [
    {
      "cell_type": "code",
      "execution_count": 2,
      "metadata": {
        "id": "iKsRzZYt8-mg"
      },
      "outputs": [],
      "source": [
        "# Packages\n",
        "from math import sqrt, pow, exp, log\n",
        "from scipy.stats import norm"
      ]
    },
    {
      "cell_type": "code",
      "source": [
        "# Relative outperformance options\n",
        "\n",
        "def RelativeOutperformanceOptions(s1, s2, x1, x2, r, q1, q2, rho, T, vol1, vol2):\n",
        "  b1 = r-q1\n",
        "  b2 = r-q2\n",
        "  x = x1 / x2\n",
        "  vol_hat = sqrt(vol1**2+vol2**2-2*rho*vol1*vol2)\n",
        "  f = s1/s2 * exp((b1-b2+vol2**2 -rho*vol1*vol2)*T)\n",
        "  d1 = (log(f/x)+T*vol_hat**2/2) / (vol_hat*sqrt(T))\n",
        "  d2 = d1 - vol_hat*sqrt(T)\n",
        "\n",
        "  c = exp(-r*T)*(f*norm.cdf(d2)-x*norm.cdf(d1))\n",
        "  p = exp(-r*T)*(x*norm.cdf(d1)-f*norm.cdf(d2))\n",
        "\n",
        "  print(\"Call Price: \", c)\n",
        "  print(\"Put Price: \", p)"
      ],
      "metadata": {
        "id": "nosB3GXP9KWr"
      },
      "execution_count": 8,
      "outputs": []
    },
    {
      "cell_type": "code",
      "source": [
        "# Product options -- Buggy\n",
        "\n",
        "def ProductOptions(s1, s2, x, r, q1, q2, rho, T, vol1, vol2):\n",
        "  b1 = r-q1\n",
        "  b2 = r-q2\n",
        "  f = s1*s2*exp((b1+b2+rho*vol1*vol2)*T)\n",
        "  sigma_hat = sqrt(vol1**2 + vol2**2 + 2*rho*vol1*vol2)\n",
        "  d1 = (log(f/x) + T*sigma_hat**2/2)/(sigma_hat*sqrt(T))\n",
        "  d2 = d1-sigma_hat*sqrt(T)\n",
        "  c=exp(-r*T)*(f*norm.cdf(d2)-x*norm.cdf(d1))\n",
        "  p=exp(-r*T)*(x*norm.cdf(d1)-f*norm.cdf(d2))\n",
        "\n",
        "  print(\"Call Price: \", c)\n",
        "  print(\"Put Price: \", p)"
      ],
      "metadata": {
        "id": "cmscW-yo_GU4"
      },
      "execution_count": 14,
      "outputs": []
    },
    {
      "cell_type": "code",
      "source": [
        "# Exchange one asset for another options\n",
        "def ExchangeOneForAnother(s1, s2, Q1, Q2, r, q1, q2, rho, T, sigma1, sigma2):\n",
        "  b1 = r-q1\n",
        "  b2 = r-q2\n",
        "  sigma_hat = sqrt(sigma1**2 + sigma2**2 - 2*rho*sigma1*sigma2)\n",
        "  d1 = (log((Q1*s1)/(Q2*s2))+(b1-b2+sigma_hat**2 * 0.5)*T) / (sigma_hat*sqrt(T))\n",
        "  d2 = d1-sigma_hat*sqrt(T)\n",
        "  c = Q1*s1*exp((b1-r)*T)*norm.cdf(d1) - Q2*s2*exp((b2-r)*T)*norm.cdf(d2)\n",
        "\n",
        "  print(\"Adjusted Volatility: \", sigma_hat)\n",
        "  print(\"d1: \", d1)\n",
        "  print(\"d2: \", d2)\n",
        "  print(\"Exchange Call Price: \", c)"
      ],
      "metadata": {
        "id": "5dWGvmggYk_l"
      },
      "execution_count": 21,
      "outputs": []
    },
    {
      "cell_type": "code",
      "source": [
        "# Spread options\n",
        "\n",
        "def SpreadOptions(s1, s2, x, Q1, Q2, r, q1, q2, rho, T, sigma1, sigma2):\n",
        "  b1 = r-q1\n",
        "  b2 = r-q2\n",
        "  s = (Q1*s1*exp((b1-r)*T))/(Q2*s2*exp((b2-r)*T)+x*exp(-r*T))\n",
        "  f = (Q2*s2**exp((b2-r)*T))/(Q2*s2*exp((b2-r)*T)+x*exp(-r*T))\n",
        "  sigma = sqrt(sigma1**2 + sigma2**2 * f -2*rho*sigma1*sigma2*f)\n",
        "  d1 = (log(s)+(sigma**2 * 0.5)*T)/(sigma*sqrt(T))\n",
        "  d2 = d1-sigma*sqrt(T)\n",
        "\n",
        "  c = (Q2*s2*exp((b2-r)*T)+x*exp(-r*T))*(s*norm.cdf(d1)-norm.cdf(d2))\n",
        "  p = (Q2*s2*exp((b2-r)*T)+x*exp(-r*T))*(norm.cdf(-d2)-s*norm.cdf(-d1))\n",
        "\n",
        "  print(\"f: \", f)\n",
        "  print(\"sigma: \", sigma)\n",
        "  print(\"d1: \", d1)\n",
        "  print(\"d2: \", d2)\n",
        "  print(\"Call Approximation: \", c)\n",
        "  print(\"Put Approximation: \", p)"
      ],
      "metadata": {
        "id": "CeEKwiG4lT8W"
      },
      "execution_count": 25,
      "outputs": []
    },
    {
      "cell_type": "code",
      "source": [
        "SpreadOptions(28, 20, 7, 1, 1, 0.05, 0.05, 0.05, 0.42, 0.25, 0.29, 0.36)"
      ],
      "metadata": {
        "colab": {
          "base_uri": "https://localhost:8080/"
        },
        "id": "QNDS9TE76a6Y",
        "outputId": "56e6f549-e818-4e8f-c8c0-9276fb9edaa4"
      },
      "execution_count": 26,
      "outputs": [
        {
          "output_type": "stream",
          "name": "stdout",
          "text": [
            "f:  0.7226587380966674\n",
            "sigma:  0.3382045117398683\n",
            "d1:  0.2996141617412526\n",
            "d2:  0.13051190587131845\n",
            "Call Approximation:  2.365820289752944\n",
            "Put Approximation:  1.3782424892590628\n"
          ]
        }
      ]
    }
  ]
}