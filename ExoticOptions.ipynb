{
  "nbformat": 4,
  "nbformat_minor": 0,
  "metadata": {
    "colab": {
      "provenance": []
    },
    "kernelspec": {
      "name": "python3",
      "display_name": "Python 3"
    },
    "language_info": {
      "name": "python"
    }
  },
  "cells": [
    {
      "cell_type": "code",
      "execution_count": 52,
      "metadata": {
        "id": "B1GJHJKojEJg"
      },
      "outputs": [],
      "source": [
        "# Packages\n",
        "\n",
        "from math import exp, log, sqrt, pow\n",
        "from scipy.stats import norm"
      ]
    },
    {
      "cell_type": "code",
      "source": [
        "# Executive stock options\n",
        "\n",
        "def ExecutiveOptions(s, x, r, q, jump_rate, T, vol):\n",
        "  b = r-q\n",
        "  d1 = (log(s/x) + (b+vol**2/2)*T) / (vol*sqrt(T))\n",
        "  d2 = d1 - vol*sqrt(T)\n",
        "  c = exp(-jump_rate*T) * (s*exp((b-r)*T)*norm.cdf(d1)-x*exp(-r*T)*norm.cdf(d2))\n",
        "  p = exp(-jump_rate*T) * (x*exp(-r*T)*norm.cdf(-d2)-s*exp((b-r)*T)*norm.cdf(-d1))\n",
        "\n",
        "  print(\"d1: \", d1)\n",
        "  print(\"d2: \", d2)\n",
        "  print(\"Call Price: \", c)\n",
        "  print(\"Put Price: \", p)"
      ],
      "metadata": {
        "id": "q6n2Hx86jVGx"
      },
      "execution_count": 8,
      "outputs": []
    },
    {
      "cell_type": "code",
      "source": [
        "# Moneyness options\n",
        "\n",
        "def MoneynessOptions(f, x, r, T, vol):\n",
        "  l_call = x/f\n",
        "  l_put = f/x\n",
        "\n",
        "  d1_call = (-log(l_call) + vol**2 * T/2) / (vol*sqrt(T))\n",
        "  d2_call = d1_call - vol*sqrt(T)\n",
        "  c = exp(-r*T) * (norm.cdf(d1_call)-l_call*norm.cdf(d2_call))\n",
        "\n",
        "  d1_put = (-log(l_put) + vol**2 * T/2) / (vol*sqrt(T))\n",
        "  d2_put = d1_put - vol*sqrt(T)\n",
        "  p = exp(-r*T) * (norm.cdf(d1_put)-l_call*norm.cdf(d2_put))\n",
        "\n",
        "  print(\"Call Price: \", c)\n",
        "  print(\"Put Price: \", p)"
      ],
      "metadata": {
        "id": "PJ2ysps2l6cW"
      },
      "execution_count": 35,
      "outputs": []
    },
    {
      "cell_type": "code",
      "source": [
        "# Power contracts\n",
        "\n",
        "def PowerContracts(s, x, r, q, i, T, vol):\n",
        "  b = r - q\n",
        "  v = (s/x)**i * exp(((b-(vol**2 *0.5))*i -r + i**2 * vol**2 *0.5) * T)\n",
        "  print(\"Value of Power Contract: \", v) "
      ],
      "metadata": {
        "id": "4t7qLJasoBZj"
      },
      "execution_count": 18,
      "outputs": []
    },
    {
      "cell_type": "code",
      "source": [
        "# Standard power option\n",
        "\n",
        "def StandardPowerOptions(s, x, r, q, i, T, vol):\n",
        "  b = r - q\n",
        "  d1 = (log(s*pow(x,-1/i)) + (b+(i-0.5)*(vol**2))*T) / (vol*sqrt(T))\n",
        "  d2 = d1 - i*vol*sqrt(T)\n",
        "\n",
        "  c = s**i * exp(((i-1)*(r+i*vol**2 * 0.5)-i*(r-b))*T)*norm.cdf(d1)-x*exp(-r*T)*norm.cdf(d2)\n",
        "  p = x*exp(-r*T)*norm.cdf(-d2) - s**i * exp(((i-1)*(r+i*vol**2 * 0.5)-i*(r-b))*T)*norm.cdf(-d1)\n",
        "\n",
        "  print(\"d1: \", d1)\n",
        "  print(\"d2: \", d2)\n",
        "  print(\"Call Price: \", c)\n",
        "  print(\"Put Price: \", p)"
      ],
      "metadata": {
        "id": "IU52DPeapHuF"
      },
      "execution_count": 32,
      "outputs": []
    },
    {
      "cell_type": "code",
      "source": [
        "# Capped power option\n",
        "\n",
        "def CappedPowerOptions(s, x, predefined_level, r, q, i, T, vol):\n",
        "  b = r-q\n",
        "  e1 = (log(s/x**(1/i)) + (b+(i-0.5)*vol**2)*T) / (vol*sqrt(T))\n",
        "  e2 = e1 - i*vol*sqrt(T)\n",
        "  e3 = (log(s/((predefined_level+x)**(1/i))) + (b+(i-0.5)*vol**2)*T) / (vol*sqrt(T))\n",
        "  e4 = e3 - i*vol*sqrt(T)\n",
        "  c = s**i * exp(((i-1)*(r+i*vol**2 * 0.5) - i*(r-b))*T) * (norm.cdf(e1)-norm.cdf(e3)) - exp(-r*T) * (x*norm.cdf(e2)-(predefined_level+x)*norm.cdf(e4))\n",
        "\n",
        "  f1 = (log(s/x**(1/i)) + (b+(i-0.5)*vol**2)*T) / (vol*sqrt(T))\n",
        "  f2 = e1 - i*vol*sqrt(T)\n",
        "  f3 = (log(s/((x-predefined_level)**(1/i)))+(b+(i-0.5)*vol**2)*T) / (vol*sqrt(T))\n",
        "  f4 = f3 - i*vol*sqrt(T)\n",
        "  p = exp(-r*T)*(x*norm.cdf(-f2) - (x-predefined_level)*norm.cdf(-f4)) - s**i * exp((((i-1)*(r+i*vol**2 * 0.5)) - i*(r-b))*T) * norm.cdf(norm.cdf(-f2)-norm.cdf(-e3))\n",
        "\n",
        "  print(\"Call Price: \", c)\n",
        "  print(\"Put Price: \", p)\n"
      ],
      "metadata": {
        "id": "mGBYqRb-tmSY"
      },
      "execution_count": 37,
      "outputs": []
    },
    {
      "cell_type": "code",
      "source": [
        "# Log contracs\n",
        "\n",
        "def LogContracts(s, x, r, T, vol):\n",
        "  b = r\n",
        "  L = exp(-r*T) * (log(s/x)+(b-vol**2 * 0.5)*T)\n",
        "  delta = exp(-r*T) / s\n",
        "  gamma = exp(-r*T) / s**2\n",
        "\n",
        "  print(\"Log Contract Value: \", L)\n",
        "  print(\"Delta: \", delta)\n",
        "  print(\"Gamme: \", gamma)"
      ],
      "metadata": {
        "id": "pomb4qBRGg0z"
      },
      "execution_count": 38,
      "outputs": []
    },
    {
      "cell_type": "code",
      "source": [
        "# Log(S) contract\n",
        "\n",
        "def LogSContracts(s, x, r, T, vol): \n",
        "  b = r\n",
        "  L = exp(-r*T)*(log(s)+(b-vol**2 * 0.5)*T)\n",
        "  delta = -2/(T*s)\n",
        "  gamma = 2/(T*s**2)\n",
        "\n",
        "  print(\"Log(S) Contract Value: \", L)\n",
        "  print(\"Delta: \", delta)\n",
        "  print(\"Gamme: \", gamma)"
      ],
      "metadata": {
        "id": "nVMdO1MHJGnv"
      },
      "execution_count": 40,
      "outputs": []
    },
    {
      "cell_type": "code",
      "source": [
        "# Log option\n",
        "\n",
        "def LogOptions(s, x, r, q, T, vol):\n",
        "  b = r-q\n",
        "  d2 = (log(s/x)+(b-vol**2/2)*T) / (vol*sqrt(T))\n",
        "  c = exp(-r*T)*norm.pdf(d2)*vol*sqrt(T) + exp(-r*T)*(log(s/x)+(b-vol**2/2)*T)*norm.cdf(d2)\n",
        "\n",
        "  print(\"Log Option Value: \", c)"
      ],
      "metadata": {
        "id": "7mCYH_6mKFwV"
      },
      "execution_count": 42,
      "outputs": []
    },
    {
      "cell_type": "code",
      "source": [
        "# Forward start options\n",
        "\n",
        "def ForwardStartOptions(s, r, q, alpha, T, t, vol):\n",
        "  b = r-q\n",
        "  d1 = (log(1/alpha) + (b+vol**2/2)*(T-t))/(vol*sqrt(T-t))\n",
        "  d2 = d1-vol*sqrt(T-t)\n",
        "  c = s*exp((b-r)*t) * (exp((b-r)*(T-t))*norm.cdf(d1)-alpha*exp(-r*(T-t))*norm.cdf(d2))\n",
        "  p = s*exp((b-r)*t) * (alpha*exp(-r*(T-t))*norm.cdf(-d2) - exp((b-r)*(T-t))*norm.cdf(-d1))\n",
        "\n",
        "  print(\"Call Price: \", c)\n",
        "  print(\"Put Price: \", p)"
      ],
      "metadata": {
        "id": "y2ZYoL38QeWg"
      },
      "execution_count": 47,
      "outputs": []
    },
    {
      "cell_type": "code",
      "source": [
        "# Simple chooser options\n",
        "\n",
        "def SimpleChooserOptions(s, x, r, q, t1, T2, vol):\n",
        "  b = r-q\n",
        "  d = log(s/x)+(b+vol**2/2)*T2 / vol*sqrt(T2)\n",
        "  y = (log(s/x)+b*T2+vol**2*t1/2) / (vol*sqrt(t1))\n",
        "  w = s*exp((b-r)*T2)*norm.cdf(d)-x*exp(-r*T2)*norm.cdf(d-vol*sqrt(T2))-s*exp((b-r)*T2)*norm.cdf(-y)+x*exp(-r*T2)*norm.cdf(-y+vol*sqrt(t1))\n",
        "  print(\"Simple Chooser Option Value: \", w) "
      ],
      "metadata": {
        "id": "NNQ72czyYu1l"
      },
      "execution_count": 56,
      "outputs": []
    },
    {
      "cell_type": "code",
      "source": [
        "# Complex chooser options"
      ],
      "metadata": {
        "id": "ms3AJBbVZawK"
      },
      "execution_count": 58,
      "outputs": []
    },
    {
      "cell_type": "code",
      "source": [
        "# Options on options\n"
      ],
      "metadata": {
        "id": "As1IBTnkhH_p"
      },
      "execution_count": 59,
      "outputs": []
    }
  ]
}